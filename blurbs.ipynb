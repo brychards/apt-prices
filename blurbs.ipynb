{
 "cells": [
  {
   "cell_type": "code",
   "execution_count": 12,
   "metadata": {},
   "outputs": [],
   "source": [
    "import pandas as pd\n",
    "\n",
    "from collections import defaultdict\n",
    "import re\n",
    "import random\n",
    "\n",
    "from sklearn.feature_extraction.text import TfidfVectorizer\n",
    "from sklearn.feature_extraction.text import TfidfTransformer\n",
    "from sklearn.feature_extraction.text import CountVectorizer\n",
    "from sklearn.metrics import silhouette_score\n",
    "\n",
    "from sklearn.decomposition import TruncatedSVD\n",
    "\n",
    "\n",
    "from sklearn.cluster import KMeans\n",
    "\n",
    "import seaborn as sns\n",
    "\n",
    "\n",
    "DIR = \"/home/bryce/Projects/Data_Science/Apt_Prices/csvs/march8/\""
   ]
  },
  {
   "cell_type": "code",
   "execution_count": 64,
   "metadata": {},
   "outputs": [],
   "source": [
    "blurb_csv = DIR + \"addr_scraping_results.csv\"\n",
    "df = pd.read_csv(blurb_csv, sep=';', header=None, names=['address', 'url', 'title', 'bullets', 'blurb'])"
   ]
  },
  {
   "cell_type": "code",
   "execution_count": 5,
   "metadata": {},
   "outputs": [],
   "source": [
    "WORDS_TO_DROP = set(['a', 'on', 'our', 'all', 'at', 'and', '$250', 'with', 'the', 'is', 'or', 'this', 'that', 'of', 'to', 'in', 'for', 'you', 'as', '-'])\n"
   ]
  },
  {
   "cell_type": "code",
   "execution_count": 97,
   "metadata": {},
   "outputs": [],
   "source": [
    "def blurb_to_dict(blurb):\n",
    "    punc_removed = re.sub('[\\.\\,\\:]', '', blurb)\n",
    "    words = punc_removed.split()\n",
    "    words = map(lambda w : w.lower(), words)\n",
    "    word_count = defaultdict(int)\n",
    "    for w in words:\n",
    "        if w in WORDS_TO_DROP:\n",
    "            continue\n",
    "        word_count[w] += 1\n",
    "    return word_count\n",
    "\n",
    "def display_dict(d):\n",
    "    return sorted(d.items(), key=lambda p : p[1], reverse=True)"
   ]
  },
  {
   "cell_type": "markdown",
   "metadata": {},
   "source": [
    "Below is code to generate a dictionary of the word count for the entire corpus (all apartments combined)"
   ]
  },
  {
   "cell_type": "code",
   "execution_count": 98,
   "metadata": {},
   "outputs": [],
   "source": [
    "\n",
    "\n",
    "def add_counts(word_count1, word_count2):\n",
    "    for w, c in word_count2.items():\n",
    "        word_count1[w] += c \n",
    "    return word_count1\n",
    "\n",
    "# This function gives us the total word count for all the listings. We'll take a look at the count frequency to get an idea of what vocabulary to use.\n",
    "def get_combined_word_count(df):\n",
    "    word_counts = defaultdict(int)\n",
    "\n",
    "    for blurb in df.blurb.items():\n",
    "        wc = blurb_to_dict(blurb[1])\n",
    "        word_counts = add_counts(word_counts, wc)\n",
    "    return word_counts\n"
   ]
  },
  {
   "cell_type": "markdown",
   "metadata": {},
   "source": [
    "Let's look at the most common words"
   ]
  },
  {
   "cell_type": "code",
   "execution_count": null,
   "metadata": {},
   "outputs": [],
   "source": [
    "# word_counts = get_combined_word_count(df)\n",
    "# wc_display = display_dict(word_counts)\n",
    "# print(wc_display[0:300])\n",
    "# curious_words = [\"gym\", \"pool\", \"hardwood\", \"luxury\", \"spacious\", \"wifi\", \"yard\", \"backyard\", \"fenced\"]\n",
    "# for w in curious_words:\n",
    "#    print(w, word_counts[w])\n"
   ]
  },
  {
   "cell_type": "markdown",
   "metadata": {},
   "source": [
    "OK, this is interesting. But we have a few thousand apartments, so we don't want that many words to be used as features.\n",
    "\n",
    "Let's take a look at TF-IDF as a potential way to select a smaller vocabulary.\n",
    "\n",
    "First, we'll write functions to clean up the text, remove punctuation and very common words, etc.\n",
    "\n",
    "Then we'll generate the TF-IDF scores"
   ]
  },
  {
   "cell_type": "code",
   "execution_count": 6,
   "metadata": {},
   "outputs": [],
   "source": [
    "# this function will have a lot of similarity to blurb_to_dict()\n",
    "def clean_text(text):\n",
    "    punc_removed = re.sub('[\\.\\,\\:\\$\\!]', '', text)\n",
    "    words = punc_removed.split()\n",
    "    words_to_keep = [w.lower() for w in words if not (w in WORDS_TO_DROP or w.isdigit())]\n",
    "    cleaned = \" \".join(words_to_keep)\n",
    "    return cleaned\n",
    "\n",
    "    "
   ]
  },
  {
   "cell_type": "code",
   "execution_count": 8,
   "metadata": {},
   "outputs": [],
   "source": [
    "# df['cleaned_blurbs'] = df.blurb.map(lambda blurb : clean_text(blurb))"
   ]
  },
  {
   "cell_type": "markdown",
   "metadata": {},
   "source": [
    "Let's use CountVectorizer instead.\n",
    "\n",
    "I don't know if TDIDF is actually great for this task. It's good to play around with though. So one way to extract features could be to take all words that are in the top 10 TDIDF for an apartment. The union of all those words will be the corpus, and an apartment's TDIDF score in that vector space will be the set of features.\n",
    "\n",
    "Another approach could be to just use my common sense and playing around with the data to get a useful vocabulary:\n",
    "- swimming pool\n",
    "- gym\n",
    "- granite countertops\n",
    "- backyard\n",
    "- historic\n",
    "\n",
    "etc. The presence of those words could be the feature.\n",
    "\n",
    "We'll work on this tomorrow!"
   ]
  },
  {
   "cell_type": "code",
   "execution_count": 53,
   "metadata": {},
   "outputs": [
    {
     "name": "stdout",
     "output_type": "stream",
     "text": [
      "C shape:  (365, 897)\n"
     ]
    }
   ],
   "source": [
    "# Let's use CountVectorizer instead. I don't think TDIDF is necessarily great for this task. It could work better to\n",
    "\n",
    "#tfidf_vectorizer = TfidfVectorizer(use_idf=True) \n",
    "#tdidf_vecs = tfidf_vectorizer.fit_transform(df.cleaned_blurbs)\n",
    "\n",
    "vectorizer = CountVectorizer(ngram_range=(1,2), min_df=0.02, max_df=.15)\n",
    "#vectorizer = CountVectorizer(ngram_range=(1,2), stop_words='english')\n",
    "C = vectorizer.fit_transform(df.cleaned_blurbs)\n",
    "print(\"C shape: \", C.shape)\n",
    "\n",
    "index_to_word = dict()\n",
    "for w, i in vectorizer.vocabulary_.items():\n",
    "    index_to_word[i] = w\n",
    "\n",
    "tfidf_transformer = TfidfTransformer(smooth_idf=True, use_idf=True)\n",
    "T = tfidf_transformer.fit_transform(C)\n"
   ]
  },
  {
   "cell_type": "markdown",
   "metadata": {},
   "source": [
    "We see that applying a document max frequency of 95% and min frequency of 3% shrinks are vocabulary from 20,664 to 918:\n",
    "\n",
    "- X_with_min_max shape:  (365, 918)\n",
    "- X shape:  (365, 20664)\n",
    "\n",
    "Using stop_words='english' shrunk the vocabulary of the tokenizer without min/max, but had no effect on the mix/max vocab."
   ]
  },
  {
   "cell_type": "code",
   "execution_count": 186,
   "metadata": {},
   "outputs": [],
   "source": [
    "def print_ith_word_vals(X, i):\n",
    "    row = X[i]\n",
    "    index_and_count = []\n",
    "    for i in row.indices:\n",
    "        index_and_count.append((i, row[0, i]))\n",
    "    index_and_count.sort(key = lambda p : p[1], reverse=True)\n",
    "    for pair in index_and_count:\n",
    "        i, c = pair[0], pair[1]\n",
    "        print(index_to_word[i], \": \", c)"
   ]
  },
  {
   "cell_type": "markdown",
   "metadata": {},
   "source": [
    "OK, so here's the plan from now. Let's take the vocabulary that this gives me and generate normalized TDIDF rows for each blurb.\n",
    "\n",
    "When can try k-means clustering to see what type of clusters it gives us. It would be really cool if it clustered e.g. by location and house type: downtown single houses, downtown fancy apartment complexes, west ashley apartment complexes, west ashley houses, west ashley luxury apartment complexes, etc.\n",
    "\n",
    "We should also try dimensionality reduction on the TDIDF vectors. Maybe the smaller vectors could be the dimension.\n",
    "\n",
    "Or we could reduce dimension and then cluster - this might give better clustering results?"
   ]
  },
  {
   "cell_type": "code",
   "execution_count": 22,
   "metadata": {},
   "outputs": [
    {
     "name": "stderr",
     "output_type": "stream",
     "text": [
      "/home/bryce/.local/lib/python3.8/site-packages/sklearn/cluster/_kmeans.py:870: FutureWarning: The default value of `n_init` will change from 10 to 'auto' in 1.4. Set the value of `n_init` explicitly to suppress the warning\n",
      "  warnings.warn(\n"
     ]
    }
   ],
   "source": [
    "# First, we'll try kmeans on its own. I have a feeling that this will work worse than reducing dimensions and then doing kmeans. But we'll see!\n",
    "\n",
    "\n",
    "# ks_to_try = range(4, 25)\n",
    "# for k in ks_to_try:\n",
    "#     kmeans_clusterer = KMeans(n_clusters=k).fit(X)\n",
    "#     Clusters = kmeans_clusterer.predict(X)\n",
    "#     average_silhouette = silhouette_score(X, Clusters)\n",
    "#     print(\"silhouette average for k = \" + str(k) + \":\", average_silhouette)\n",
    "\n",
    "Clusters = KMeans(n_clusters=17).fit_predict(X)\n"
   ]
  },
  {
   "cell_type": "code",
   "execution_count": 33,
   "metadata": {},
   "outputs": [
    {
     "name": "stdout",
     "output_type": "stream",
     "text": [
      "{0: 70, 1: 27, 2: 45, 3: 29, 4: 7, 5: 28, 6: 14, 7: 5, 8: 15, 9: 10}\n"
     ]
    }
   ],
   "source": [
    "clusts = pd.Series(Clusters)\n",
    "\n",
    "\n",
    "blurbs_in_clust = dict()\n",
    "for i in range(10):\n",
    "    count = (clusts == i).sum()\n",
    "    blurbs_in_clust[i] = count\n",
    "    \n",
    "\n",
    "print(blurbs_in_clust)\n",
    "\n",
    "\n"
   ]
  },
  {
   "cell_type": "code",
   "execution_count": null,
   "metadata": {},
   "outputs": [],
   "source": [
    "\n",
    "\n",
    "def print_random_blurbs_from_cluster(cluster, n):\n",
    "    indices = list(clusts.index[clusts == cluster])\n",
    "    n = min(len(indices), n)\n",
    "    rand_indices = random.sample(indices, n)\n",
    "    for i in rand_indices:\n",
    "        print(df.blurb[i])\n",
    "        print(\"\\n\\n\")\n",
    "\n",
    "print_random_blurbs_from_cluster(9, 5)\n",
    "\n"
   ]
  },
  {
   "cell_type": "code",
   "execution_count": 54,
   "metadata": {},
   "outputs": [],
   "source": [
    "svd = TruncatedSVD(n_components=15, n_iter=100)\n",
    "X = svd.fit_transform(T)\n"
   ]
  },
  {
   "cell_type": "code",
   "execution_count": 55,
   "metadata": {},
   "outputs": [
    {
     "data": {
      "text/plain": [
       "<AxesSubplot: >"
      ]
     },
     "execution_count": 55,
     "metadata": {},
     "output_type": "execute_result"
    },
    {
     "data": {
      "image/png": "[encoded data removed]",
      "text/plain": [
       "<Figure size 640x480 with 1 Axes>"
      ]
     },
     "metadata": {},
     "output_type": "display_data"
    }
   ],
   "source": [
    "Sigma = svd.singular_values_\n",
    "V_T = svd.components_.T\n",
    "sns.barplot(x=list(range(len(Sigma))), y = Sigma)\n"
   ]
  },
  {
   "cell_type": "code",
   "execution_count": 56,
   "metadata": {},
   "outputs": [
    {
     "name": "stdout",
     "output_type": "stream",
     "text": [
      "      word\n",
      "0      1st\n",
      "1     2023\n",
      "2  24 hour\n",
      "3       25\n",
      "4       26\n"
     ]
    }
   ],
   "source": [
    "vocab_df = pd.DataFrame.from_dict(index_to_word, orient='index', columns=['word']).sort_index()\n",
    "print(vocab_df.head())"
   ]
  },
  {
   "cell_type": "code",
   "execution_count": 57,
   "metadata": {},
   "outputs": [],
   "source": [
    "term_topic_matrix = pd.DataFrame(data=V_T, index=vocab_df.word, columns=[f'Latent_concept_{i}' for i in range(0, V_T.shape[1])])"
   ]
  },
  {
   "cell_type": "code",
   "execution_count": 63,
   "metadata": {},
   "outputs": [
    {
     "data": {
      "text/plain": [
       "<AxesSubplot: ylabel='word'>"
      ]
     },
     "execution_count": 63,
     "metadata": {},
     "output_type": "execute_result"
    },
    {
     "data": {
      "image/png": "[encoded data removed]",
      "text/plain": [
       "<Figure size 640x480 with 1 Axes>"
      ]
     },
     "metadata": {},
     "output_type": "display_data"
    }
   ],
   "source": [
    "data = term_topic_matrix[f'Latent_concept_10']\n",
    "data = data.sort_values(ascending=False)\n",
    "top_10 = data[:10]\n",
    "sns.barplot(x= top_10.values, y=top_10.index)"
   ]
  },
  {
   "cell_type": "markdown",
   "metadata": {},
   "source": [
    "Below we look at correlation between phrases and price"
   ]
  },
  {
   "cell_type": "code",
   "execution_count": null,
   "metadata": {},
   "outputs": [],
   "source": [
    "\n",
    "import copy \n",
    "import blurbs_corr \n",
    "\n",
    "DIR = '/home/bryce/Projects/Data_Science/Apt_Prices/csvs/march8/'\n",
    "\n",
    "address_file =  DIR + 'pd_address_info.csv' \n",
    "apt_file = DIR + 'pd_apt_info.csv'\n",
    "\n",
    "addr_df = pd.read_csv(address_file, sep=';')\n",
    "apt_df = pd.read_csv(apt_file, sep=';')\n",
    "\n",
    "\n",
    "min_doc_freq = .02\n",
    "max_doc_freq = .20\n",
    "ngram_range = (2, 3)\n",
    "\n",
    "addr_df_copy = copy.copy(addr_df)\n",
    "\n",
    "# 1. Compute the 'noncommon' words.\n",
    "\n",
    "addr_df_copy['cleaned_blurbs'] = addr_df.blurb.map(blurbs_corr.BlurbFeatures._clean_text)\n",
    "single_word_count_vectorizer = CountVectorizer(\n",
    "    ngram_range=(1, 1), min_df=.02, max_df=.5)\n",
    "_ = single_word_count_vectorizer.fit_transform(addr_df_copy.cleaned_blurbs)\n",
    "\n",
    "word_to_index = single_word_count_vectorizer.vocabulary_\n",
    "words = {w for w, i in word_to_index.items()}\n",
    "\n",
    "tuple_count_vectorizer = CountVectorizer(ngram_range=(2, 3), min_df=min_doc_freq, max_df=max_doc_freq)\n",
    "counts = tuple_count_vectorizer.fit_transform(addr_df_copy.cleaned_blurbs)\n",
    "term_to_index = tuple_count_vectorizer.vocabulary_\n",
    "index_to_term = {i : t for t, i in term_to_index.items()}\n",
    "counts_df = pd.DataFrame(counts.toarray()).rename(columns=index_to_term)\n",
    "\n",
    "\n",
    "# 2. Calculate the correlation between each term/phrase and the difference between that address's prices \n",
    "# and the median price of similar type of properties (e.g. apartments in the same zip code with the same number\n",
    "# of beds).\n",
    "\n",
    "addrs = addr_df_copy[['address']]\n",
    "addrs_and_dummies = pd.concat((addrs, counts_df), axis=1)\n",
    "assert(addrs_and_dummies.shape[0] == addrs.shape[0])\n",
    "diffs_from_median = utility_methods.calculate_diff_from_median_price(apt_df = apt_df, addr_df = addr_df)\n",
    "\n",
    "combined = diffs_from_median.merge(addrs_and_dummies, on='address')\n",
    "corrs = combined.corr(numeric_only=True)[['avg_diff_from_median']].rename(columns={'avg_diff_from_median' : 'corr'})\n",
    "corrs.sort_values(by='corr', ascending=False, inplace=True)\n",
    "corrs.to_csv('/tmp/corrs.csv')"
   ]
  }
 ],
 "metadata": {
  "kernelspec": {
   "display_name": "Python 3.8.10 64-bit",
   "language": "python",
   "name": "python3"
  },
  "language_info": {
   "codemirror_mode": {
    "name": "ipython",
    "version": 3
   },
   "file_extension": ".py",
   "mimetype": "text/x-python",
   "name": "python",
   "nbconvert_exporter": "python",
   "pygments_lexer": "ipython3",
   "version": "3.8.10"
  },
  "orig_nbformat": 4,
  "vscode": {
   "interpreter": {
    "hash": "916dbcbb3f70747c44a77c7bcd40155683ae19c65e1c03b4aa3499c5328201f1"
   }
  }
 },
 "nbformat": 4,
 "nbformat_minor": 2
}
