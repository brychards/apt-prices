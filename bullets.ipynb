{
 "cells": [
  {
   "cell_type": "code",
   "execution_count": 24,
   "metadata": {},
   "outputs": [],
   "source": [
    "import pandas as pd\n",
    "import numpy as np \n",
    "\n",
    "import pingouin as pg\n",
    "\n",
    "from collections import defaultdict\n",
    "import re\n",
    "import random\n",
    "\n",
    "from sklearn.feature_extraction.text import TfidfVectorizer\n",
    "from sklearn.feature_extraction.text import TfidfTransformer\n",
    "from sklearn.feature_extraction.text import CountVectorizer\n",
    "from sklearn.metrics import silhouette_score\n",
    "\n",
    "from sklearn.decomposition import TruncatedSVD\n",
    "\n",
    "\n",
    "from sklearn.cluster import KMeans\n",
    "\n",
    "import seaborn as sns\n",
    "\n",
    "import imp\n",
    "import bullets\n",
    "\n",
    "\n",
    "DIR = \"/home/bryce/Projects/Data_Science/Apt_Prices/csvs/march8/\""
   ]
  },
  {
   "cell_type": "code",
   "execution_count": 25,
   "metadata": {},
   "outputs": [],
   "source": [
    "blurb_csv = DIR + \"pd_address_info.csv\"\n",
    "apt_csv = DIR + 'pd_apt_info.csv'\n",
    "apt_df = pd.read_csv(apt_csv, sep=';')\n",
    "df = pd.read_csv(blurb_csv, sep=';', usecols=['address', 'url', 'title', 'bullets', 'blurb', 'latlng'])"
   ]
  },
  {
   "cell_type": "code",
   "execution_count": 61,
   "metadata": {},
   "outputs": [],
   "source": [
    "df.title.to_csv('/tmp/title.csv')"
   ]
  },
  {
   "cell_type": "code",
   "execution_count": 26,
   "metadata": {},
   "outputs": [
    {
     "data": {
      "text/plain": [
       "count    433.000000\n",
       "mean       0.501155\n",
       "std        0.500577\n",
       "min        0.000000\n",
       "25%        0.000000\n",
       "50%        1.000000\n",
       "75%        1.000000\n",
       "max        1.000000\n",
       "Name: is_house, dtype: float64"
      ]
     },
     "execution_count": 26,
     "metadata": {},
     "output_type": "execute_result"
    }
   ],
   "source": [
    "def get_property_type(title):\n",
    "    m = re.match(r'.* ([A-Za-z]+) for Rent.*', title)\n",
    "    if m is None:\n",
    "        return 'undefined'\n",
    "    type = m.group(1).lower()\n",
    "    if type == 'houses':\n",
    "        type = 'house'\n",
    "    return type\n",
    "\n",
    "df['type'] = df.title.map(get_property_type)\n",
    "\n",
    "def is_house(type):\n",
    "    return 1 if type in ['townhouse', 'house'] else 0\n",
    "\n",
    "df['is_house'] = df.type.map(is_house)\n",
    "df.is_house.describe()"
   ]
  },
  {
   "cell_type": "code",
   "execution_count": 65,
   "metadata": {},
   "outputs": [
    {
     "data": {
      "text/plain": [
       "house        181\n",
       "undefined    174\n",
       "townhouse     36\n",
       "condo         31\n",
       "apartment     11\n",
       "Name: type, dtype: int64"
      ]
     },
     "execution_count": 65,
     "metadata": {},
     "output_type": "execute_result"
    }
   ],
   "source": [
    "df.type.value_counts()"
   ]
  },
  {
   "cell_type": "code",
   "execution_count": 27,
   "metadata": {},
   "outputs": [],
   "source": [
    "def bullets_to_set(bullets_str):\n",
    "    if bullets_str is None:\n",
    "        return []\n",
    "    \n",
    "    bullets_str = str(bullets_str)\n",
    "\n",
    "    bullets = bullets_str.split('()')[1:]\n",
    "\n",
    "    discard_characters_re = r'[^\\d\\sa-z]'\n",
    "    bullets = [b.strip().lower() for b in bullets]\n",
    "    bullets = [re.sub(discard_characters_re, '', b) for b in bullets]\n",
    "    return set(bullets)\n",
    "\n",
    "def to_1D(series):\n",
    "    return pd.Series([x for _list in series for x in _list])\n",
    "\n",
    "\n",
    "\n",
    "# def get_rows_with_bullet(df, bullet_str, bullet_re = None):\n"
   ]
  },
  {
   "cell_type": "code",
   "execution_count": 28,
   "metadata": {},
   "outputs": [],
   "source": [
    "df['bullets_set'] = df.bullets.map(bullets_to_set)\n"
   ]
  },
  {
   "cell_type": "code",
   "execution_count": 29,
   "metadata": {},
   "outputs": [],
   "source": [
    "def get_frequent_terms(df, min_count = 1):\n",
    "    term_to_count = to_1D(df.bullets_set).value_counts().to_dict()\n",
    "    freq_terms = term_to_count\n",
    "    terms_to_remove = []\n",
    "    for t, c in freq_terms.items():\n",
    "        if c < min_count:\n",
    "            terms_to_remove.append(t)\n",
    "    for t in terms_to_remove:\n",
    "        freq_terms.pop(t)\n",
    "    return freq_terms"
   ]
  },
  {
   "cell_type": "markdown",
   "metadata": {},
   "source": [
    "Here is my idea. Looking at the bullets, there aren't that many. Maybe they're pre-selected from a list that apartments.com supplies? So, let's do the following:\n",
    "\n",
    "- For addresses without bullets, look through the blurb to see if each bullet is present. If it is, add it to that address's bullets list\n",
    "- Then, keep only bullets with a count higher than N\n",
    "- For these bullets, calculate the correlation between the presence of the bullet and the price of the apartment\n",
    "- Keep the M bullets with the highest correlation.\n",
    "\n",
    "Another thing we could try is look at blurbs that are NOT correlated with the other features very much. Compute the correlation between each blurb dummy variable and:\n",
    "- zip\n",
    "- units_in_building\n",
    "- neighborhood\n",
    "\n",
    "exclude any blurbs with high correlation to any of those.\n",
    "\n",
    "Maybe we could try BOTH - pick the blurbs correlated with rent, but not very correlated with other variables."
   ]
  },
  {
   "cell_type": "code",
   "execution_count": 30,
   "metadata": {},
   "outputs": [],
   "source": [
    "freq_terms = get_frequent_terms(df)\n",
    "\n",
    "\n",
    "BLURB_SPECIFIC_BULLETS = {'en suite', 'penthouse', 'family home', 'fully furnished'}\n",
    "\n",
    "# for these bullets, we need to check the first one before adding the second, since the second is a subphrase of the first\n",
    "SPECIAL_BULLETS = [\n",
    "    ('no pets allowed', 'pets allowed'),\n",
    "    ('no dogs allowed', 'dogs allowed'),\n",
    "    ('no cats allowed', 'cats allowed'),\n",
    "    ('furnished units available', 'furnished')\n",
    "]\n",
    "\n",
    "# we should make this method clean up the blurb further\n",
    "def generate_bullets_from_blurb(row):\n",
    "    if len(row.bullets_set) > 0:\n",
    "        return pd.NA\n",
    "\n",
    "    blurb = str(row.blurb).lower()\n",
    "    terms = set()\n",
    "    for term in freq_terms:\n",
    "        if blurb.find(term) != -1:\n",
    "            terms.add(term)\n",
    "            \n",
    "    for term in BLURB_SPECIFIC_BULLETS:\n",
    "        if term in blurb:\n",
    "            terms.add(term)\n",
    "\n",
    "    fua = 'furnished units available'\n",
    "    f = 'furnished'\n",
    "    if fua in terms:\n",
    "        terms.remove(f)\n",
    "    \n",
    "    for bullet_pair in SPECIAL_BULLETS:\n",
    "        (b1, b2) = bullet_pair \n",
    "        if b1 in blurb:\n",
    "            terms.add(b1)\n",
    "        elif b2 in blurb:\n",
    "            terms.add(b2)\n",
    "    \n",
    "    return terms \n",
    "\n",
    "def remove_infrequent_terms(bullets_set):\n",
    "    bullets_to_remove = set()\n",
    "    for bullet in bullets_set:\n",
    "        if bullet not in freq_terms:\n",
    "            bullets_to_remove.add(bullet)\n",
    "    return bullets_set - bullets_to_remove \n",
    "    \n",
    "\n"
   ]
  },
  {
   "cell_type": "code",
   "execution_count": 18,
   "metadata": {},
   "outputs": [],
   "source": [
    "# Bryce - scratch, delete this\n",
    "\n",
    "import csv \n",
    "\n",
    "with open('/home/bryce/Projects/Data_Science/Apt_Prices/scratch/march8/training_bullet_counts.csv', 'w') as csv_file:\n",
    "    writer = csv.writer(csv_file)\n",
    "    for k, v in freq_terms.items():\n",
    "        writer.writerow([k, v])"
   ]
  },
  {
   "cell_type": "code",
   "execution_count": 31,
   "metadata": {},
   "outputs": [],
   "source": [
    "# generate the bullets from blurbs for addresses missing bullets, and combined the two forms of bullets into one row\n",
    "\n",
    "\n",
    "df['bullets_set_from_blurb'] = df.apply(generate_bullets_from_blurb, axis=1)\n",
    "df['bullets_set'] = df.bullets_set.map(remove_infrequent_terms)\n",
    "df['combined_bullets_set'] = np.where(df.bullets_set_from_blurb.isna(), df.bullets_set, df.bullets_set_from_blurb)\n",
    "def bullets_set_to_string(bullets):\n",
    "    return '|'.join(bullets)\n",
    "\n",
    "df['combined_bullets'] = df.combined_bullets_set.map(bullets_set_to_string)"
   ]
  },
  {
   "cell_type": "code",
   "execution_count": 43,
   "metadata": {},
   "outputs": [],
   "source": [
    "# should we add 'kitchen' : -1 ?\n",
    "KITCHEN_QUALITY_MAP = {'stainless steel appliances' : 1,\n",
    "                       'granite countertops' : 2,\n",
    "                       'breakfast nook' : 1,\n",
    "                       'island kitchen': 1}\n",
    "\n",
    "SECURITY_TERMS = {'gated', 'controlled access'}\n",
    "LAWN_TERMS = {'lawn', 'yard'}\n",
    "PETS_ALLOWED_TERMS = {'dogs allowed', 'cats allowed', 'pet play area', 'pet washing station'}\n",
    "NO_PETS_ALLOWED_TERMS = {'no dogs allowed', 'no cats allowed', 'no pets allowed', 'pets not allowed'}\n",
    "UPSCALE_DETAILS_MAP = {'tile floors' : 1,\n",
    "                       'hardwood floors' : 1,\n",
    "                       'double pane windows' : 1,\n",
    "                       'vaulted ceilings' : 1,\n",
    "                       'crown molding' : 1,\n",
    "                       'builtin bookshelves' : 1}\n",
    "POOL_TERMS = {'pool', 'swimming pool'}\n",
    "ELEVATOR_TERMS = {'elevator'}\n",
    "LUXURY_DETAILS_MAP = {'roof terrace' : 1,\n",
    "                      'spa' : 1,\n",
    "                      'concierge' : 1,\n",
    "                      'onsite retail' : 1,\n",
    "                      'penthouse' : 2,\n",
    "                      'pet care' : 1}\n",
    "WATERFRONT_TERMS = {'waterfront', 'dock'}\n",
    "RECREATION_DETAILS_MAP = {'fitness center' : 1,\n",
    "                          'tennis courts' : 1,\n",
    "                          'volleyball court' : 1,\n",
    "                          'basketball court' : 0.5}\n",
    "\n",
    "FURNISHED_TERMS = {'furnished', 'fully furnished'}\n",
    "\n",
    "\n",
    "FEATURE_TO_TERMS_MAP = {\n",
    "    'has_security' : SECURITY_TERMS,\n",
    "    'has_lawn' : LAWN_TERMS,\n",
    "    'are_pets_allowed' : PETS_ALLOWED_TERMS,\n",
    "    'are_no_pets_allowed' : NO_PETS_ALLOWED_TERMS,\n",
    "    'has_pool' : POOL_TERMS,\n",
    "    'is_waterfront' : WATERFRONT_TERMS,\n",
    "    'is_furnished' : FURNISHED_TERMS,\n",
    "    'has_elevator' : ELEVATOR_TERMS,\n",
    "    'kitchen_quality_score' : KITCHEN_QUALITY_MAP,\n",
    "    'upscale_score' : UPSCALE_DETAILS_MAP,\n",
    "    'recreation_score' : RECREATION_DETAILS_MAP,\n",
    "    'luxury_score' : LUXURY_DETAILS_MAP\n",
    "}\n",
    "\n",
    "\n",
    "\n",
    "def compute_score(bullets_set, term_to_score_map):\n",
    "    score = 0.0\n",
    "    for bullet in bullets_set:\n",
    "        if bullet in term_to_score_map:\n",
    "            score += term_to_score_map[bullet]\n",
    "    return score \n",
    "\n",
    "def compute_bool(bullets_set, terms_set):\n",
    "    for bullet in bullets_set:\n",
    "        if bullet in terms_set:\n",
    "            return 1\n",
    "    return 0\n",
    "\n",
    "\n",
    "def add_bullet_features(df):\n",
    "    # Note that terms will either be a set or a map, depending on whether we're computing a score or a boolean.\n",
    "    for feat_name, terms in FEATURE_TO_TERMS_MAP.items():\n",
    "        if feat_name.endswith('_score'):\n",
    "            df[feat_name] = df.combined_bullets_set.map(lambda bullets_set : compute_score(bullets_set, terms))\n",
    "        else:\n",
    "            df[feat_name] = df.combined_bullets_set.map(lambda bullets_set : compute_bool(bullets_set, terms))\n",
    "\n",
    "#add_bullet_features(df)\n"
   ]
  },
  {
   "cell_type": "code",
   "execution_count": 42,
   "metadata": {},
   "outputs": [
    {
     "data": {
      "text/plain": [
       "0.0    334\n",
       "1.0     90\n",
       "2.0      7\n",
       "3.0      2\n",
       "Name: luxury_score, dtype: int64"
      ]
     },
     "execution_count": 42,
     "metadata": {},
     "output_type": "execute_result"
    }
   ],
   "source": [
    "# Let's look at these features we added \n",
    "\n",
    "df.luxury_score.value_counts()\n"
   ]
  },
  {
   "cell_type": "code",
   "execution_count": 13,
   "metadata": {},
   "outputs": [],
   "source": [
    "df_with_dummies =  pd.concat((df, df.combined_bullets.str.get_dummies(sep='|')), axis=1)\n",
    "df_with_dummies = pd.merge(df_with_dummies, apt_df, on='address')"
   ]
  },
  {
   "cell_type": "code",
   "execution_count": 79,
   "metadata": {},
   "outputs": [
    {
     "name": "stderr",
     "output_type": "stream",
     "text": [
      "/tmp/ipykernel_3595/3146290594.py:5: FutureWarning: The default value of numeric_only in DataFrame.corrwith is deprecated. In a future version, it will default to False. Select only valid columns or specify the value of numeric_only to silence this warning.\n",
      "  corrs = just_dummies.corrwith(df_with_dummies.price)\n",
      "/home/bryce/.local/lib/python3.8/site-packages/pingouin/pairwise.py:1429: FutureWarning: In a future version of pandas all arguments of DataFrame.any and Series.any will be keyword-only.\n",
      "  stats = stats[~stats[[\"X\", \"Y\"]].isin(covar).any(1)]\n"
     ]
    }
   ],
   "source": [
    "just_dummies = df_with_dummies.drop(columns=['address', 'url', 'title', 'bullets', 'blurb', 'latlng', 'bullets_set', 'bullets_set_from_blurb', 'combined_bullets', 'bullets_set_from_blurb', 'combined_bullets_set', 'price', 'beds', 'baths', 'sq_ft', 'location', 'zip', 'units_in_building', 'type', 'is_house'])\n",
    "# normally corrwith matches up the column names between the calling df and the argument df.\n",
    "# but if you make the argumenet a series, it broadcasts this to all columns of the calling df.\n",
    "# this isn't documented, so just noting it here!\n",
    "corrs = just_dummies.corrwith(df_with_dummies.price)\n",
    "\n",
    "dummy_cols = list(just_dummies.columns)\n",
    "controlled_corrs = pg.pairwise_corr(df_with_dummies, columns=[dummy_cols, ['price']], covar=['sq_ft', 'beds', 'baths', 'zip', 'is_house'])"
   ]
  },
  {
   "cell_type": "code",
   "execution_count": 139,
   "metadata": {},
   "outputs": [],
   "source": [
    "term_to_count = to_1D(df.bullets_set).value_counts().to_dict()\n",
    "bullet_dummy_vars = df.combined_bullets.str.get_dummies(sep='|')\n",
    "svd = TruncatedSVD(n_components=26)\n",
    "svd_matrix = svd.fit_transform(bullet_dummy_vars)\n",
    "\n"
   ]
  },
  {
   "cell_type": "code",
   "execution_count": 79,
   "metadata": {},
   "outputs": [
    {
     "name": "stdout",
     "output_type": "stream",
     "text": [
      "(433, 6)\n"
     ]
    }
   ],
   "source": []
  },
  {
   "cell_type": "code",
   "execution_count": 140,
   "metadata": {},
   "outputs": [
    {
     "name": "stdout",
     "output_type": "stream",
     "text": [
      "0.7372216697490305\n"
     ]
    },
    {
     "data": {
      "image/png": "[encoded data removed]",
      "text/plain": [
       "<Figure size 640x480 with 1 Axes>"
      ]
     },
     "metadata": {},
     "output_type": "display_data"
    }
   ],
   "source": [
    "Sigma = svd.singular_values_\n",
    "V_T = svd.components_.T\n",
    "sns.barplot(x=list(range(len(Sigma))), y = Sigma)\n",
    "print(svd.explained_variance_ratio_.sum())\n",
    "term_topic_matrix = pd.DataFrame(data=V_T, index=bullet_dummy_vars.columns, columns=[f'Latent_concept_{i}' for i in range(0, V_T.shape[1])])"
   ]
  },
  {
   "cell_type": "code",
   "execution_count": 144,
   "metadata": {},
   "outputs": [
    {
     "name": "stdout",
     "output_type": "stream",
     "text": [
      "(107,)\n"
     ]
    },
    {
     "data": {
      "text/plain": [
       "<AxesSubplot: >"
      ]
     },
     "execution_count": 144,
     "metadata": {},
     "output_type": "execute_result"
    },
    {
     "data": {
      "image/png": "[encoded data removed]",
      "text/plain": [
       "<Figure size 640x480 with 1 Axes>"
      ]
     },
     "metadata": {},
     "output_type": "display_data"
    }
   ],
   "source": [
    "data = term_topic_matrix[f'Latent_concept_20']\n",
    "data = data.sort_values(ascending=False)\n",
    "print(data.shape)\n",
    "top_10 = data[:20]\n",
    "bottom_10 = data.iloc[-15:]\n",
    "sns.barplot(x= top_10.values, y=top_10.index)\n",
    "#sns.barplot(x=bottom_10.values, y=bottom_10.index)"
   ]
  },
  {
   "cell_type": "code",
   "execution_count": 80,
   "metadata": {},
   "outputs": [
    {
     "name": "stdout",
     "output_type": "stream",
     "text": [
      "                              X      Y   method  \\\n",
      "9                  ceiling fans  price  pearson   \n",
      "44                    microwave  price  pearson   \n",
      "35        in unit washer  dryer  price  pearson   \n",
      "76                        views  price  pearson   \n",
      "81  wheelchair accessible rooms  price  pearson   \n",
      "\n",
      "                                            covar alternative     n         r  \\\n",
      "9   ['sq_ft', 'beds', 'baths', 'zip', 'is_house']   two-sided  2720  0.185821   \n",
      "44  ['sq_ft', 'beds', 'baths', 'zip', 'is_house']   two-sided  2720  0.219576   \n",
      "35  ['sq_ft', 'beds', 'baths', 'zip', 'is_house']   two-sided  2720  0.236507   \n",
      "76  ['sq_ft', 'beds', 'baths', 'zip', 'is_house']   two-sided  2720  0.308957   \n",
      "81  ['sq_ft', 'beds', 'baths', 'zip', 'is_house']   two-sided  2720  0.314095   \n",
      "\n",
      "           CI95%         p-unc  \n",
      "9   [0.15, 0.22]  1.622783e-22  \n",
      "44  [0.18, 0.26]  5.362979e-31  \n",
      "35   [0.2, 0.27]  7.912442e-36  \n",
      "76  [0.27, 0.34]  3.907167e-61  \n",
      "81  [0.28, 0.35]  3.133081e-63  \n"
     ]
    }
   ],
   "source": [
    "controlled_corrs.sort_values(by='r', inplace=True)\n",
    "print(controlled_corrs.tail())\n",
    "\n",
    "controlled_corrs.to_csv('/tmp/controlled_corrs4.csv', sep=';', index=False, columns=['X', 'Y', 'r', 'CI95%'])\n"
   ]
  },
  {
   "cell_type": "markdown",
   "metadata": {},
   "source": [
    "We're getting a little lost in the weeds here. Here are some things we should do:\n",
    "\n",
    "- Write a function that takes in a list of bullets, and prints average price for units with and without that bullet, grouped by zip, beds, baths, and type. Just to double check the sanity of the correlations we're getting.\n",
    "- A lot of the bullets are probably highly correlated with each other. We'd ideally pick out bullets that aren't so correlated with each other to be the features.\n",
    "\n",
    "- This reminds me of the most informative base pairs. Pick the bullet with the highest average mutual information with the other bullets. Divide units into two - those with and without this bullet. Repeat.\n",
    "- We could do dimensionality reduction on the bullets.\n",
    "- Look at correlation matrix. "
   ]
  },
  {
   "cell_type": "code",
   "execution_count": 87,
   "metadata": {},
   "outputs": [],
   "source": [
    "# term_cors = pg.pairwise_corr(df_with_dummies, columns=dummy_cols)\n",
    "term_cors.sort_values(by='r', inplace=True)\n",
    "term_cors.to_csv('/tmp/term_corrs.csv', sep=';', columns=['X', 'Y', 'r'])"
   ]
  },
  {
   "cell_type": "code",
   "execution_count": 160,
   "metadata": {},
   "outputs": [
    {
     "name": "stdout",
     "output_type": "stream",
     "text": [
      "(433, 15)\n"
     ]
    },
    {
     "data": {
      "text/plain": [
       "True"
      ]
     },
     "execution_count": 160,
     "metadata": {},
     "output_type": "execute_result"
    }
   ],
   "source": [
    "bullet_features = bullets.BulletFeatures()\n",
    "training_dummies = bullet_features.generate_training_bullet_dummy_vars(df)\n",
    "testing_dummies = bullet_features.generate_testing_bullet_dummy_vars(df)\n",
    "training_svd_df = bullet_features.get_training_svd_df(df)\n",
    "print(training_svd_df.shape)\n",
    "testing_svd_df = bullet_features.get_testing_svd_df(df)\n",
    "testing_svd_df.equals(training_svd_df)"
   ]
  }
 ],
 "metadata": {
  "kernelspec": {
   "display_name": "Python 3.8.10 64-bit",
   "language": "python",
   "name": "python3"
  },
  "language_info": {
   "codemirror_mode": {
    "name": "ipython",
    "version": 3
   },
   "file_extension": ".py",
   "mimetype": "text/x-python",
   "name": "python",
   "nbconvert_exporter": "python",
   "pygments_lexer": "ipython3",
   "version": "3.8.10"
  },
  "orig_nbformat": 4,
  "vscode": {
   "interpreter": {
    "hash": "916dbcbb3f70747c44a77c7bcd40155683ae19c65e1c03b4aa3499c5328201f1"
   }
  }
 },
 "nbformat": 4,
 "nbformat_minor": 2
}
