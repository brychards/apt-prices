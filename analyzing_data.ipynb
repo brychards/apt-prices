{
 "cells": [
  {
   "cell_type": "code",
   "execution_count": 45,
   "metadata": {},
   "outputs": [],
   "source": [
    "# All the imports in one place!\n",
    "\n",
    "import numpy as np\n",
    "import matplotlib.pyplot as plt\n",
    "import csv\n",
    "from functools import reduce\n",
    "import re \n",
    "from collections import defaultdict\n",
    "\n",
    "from sklearn.linear_model import LinearRegression\n",
    "from sklearn.linear_model import Ridge\n",
    "from sklearn.preprocessing import StandardScaler\n",
    "from sklearn.preprocessing import OneHotEncoder\n",
    "from sklearn.preprocessing import LabelEncoder\n",
    "\n",
    "import pandas as pd"
   ]
  },
  {
   "cell_type": "markdown",
   "metadata": {},
   "source": [
    "For some apartments, we saved square footage like \"1,240 sq ft\" as two columns: \"1;; 240 sq ft;;\"\n",
    "\n",
    "Let's go through the results, and for any rows with 6 columns instead of 5, we'll check if the second to last column is just a 1 or 2 digit number.\n",
    "\n",
    "If it is, we'll smush it to the square footage column"
   ]
  },
  {
   "cell_type": "code",
   "execution_count": 23,
   "metadata": {},
   "outputs": [],
   "source": [
    "results_file = '/home/bryce/Projects/Data_Science/Apt_Prices/all-results.csv'\n",
    "#print(data.shape)\n",
    "\n",
    "adjusted_lines = []\n",
    "\n",
    "with open(results_file, 'r') as f:\n",
    "    for line in f.readlines():\n",
    "        columns = line.split(';;')\n",
    "        if len(columns) > 5:\n",
    "            extra_cols = columns[4:]\n",
    "            new_col = reduce(lambda s1, s2: s1.strip() + s2.strip(), extra_cols)\n",
    "            new_cols = columns[:4] + [new_col]\n",
    "            new_line = ';; '.join(new_cols)\n",
    "            adjusted_lines.append(new_line + '\\n')\n",
    "            continue\n",
    "        elif len(columns) <= 2:\n",
    "            # these are either blank lines or the couple lines where an address wasn't found\n",
    "            continue\n",
    "        adjusted_lines.append(line)\n",
    "\n",
    "adjusted_results_file = '/home/bryce/Projects/Data_Science/Apt_Prices/cleaned-results.csv'\n",
    "with open(adjusted_results_file, 'w') as outfile:\n",
    "    outfile.writelines(adjusted_lines)"
   ]
  },
  {
   "cell_type": "markdown",
   "metadata": {},
   "source": [
    "OK, so the number of rows is consistent!\n",
    "\n",
    "But numpy still can't read '$2345' and whatnot.\n",
    "\n",
    "So let's clean up the file further.\n",
    "\n",
    "old file columns:\n",
    "\n",
    "123 Main St, Charleston, SC - Downtown;; $2131;; 2 bd;; 1 ba;; 1,200 sq ft\n",
    "\n",
    "the new file columns:\n",
    "\n",
    "123 Main St, Charleston, SC; Downtown; 2; 1; 1200; 2131"
   ]
  },
  {
   "cell_type": "code",
   "execution_count": 54,
   "metadata": {},
   "outputs": [
    {
     "name": "stdout",
     "output_type": "stream",
     "text": [
      "Multi word price:   $1,583 – $1,689\n",
      "Multi word price:    $1,758 – $2,050\n",
      "Multi word price:    $2,282 – $2,457\n",
      "Multi word price:   $1,579 – $1,758\n",
      "Multi word price:    $2,091 – $2,278\n",
      "Multi word price:   $Call for Rent\n",
      "Multi word price:   $Call for Rent\n",
      "Multi word price:   $Call for Rent\n",
      "Multi word price:   $Call for Rent\n",
      "Multi word price:   $Call for Rent\n",
      "Multi word price:   $Call for Rent\n",
      "Multi word price:   $Call for Rent\n",
      "Multi word price:   $Call for Rent\n",
      "Multi word price:   $Call for Rent\n",
      "Multi word price:   $Call for Rent\n",
      "Multi word price:   $Call for Rent\n",
      "Multi word price:   $Call for Rent\n",
      "Multi word price:   $Call for Rent\n",
      "Multi word price:   $Call for Rent\n",
      "Multi word price:   $Call for Rent\n",
      "Multi word price:   $Call for Rent\n",
      "Multi word price:   $Call for Rent\n",
      "Multi word price:   $Call for Rent\n",
      "Multi word price:   $Call for Rent\n",
      "Multi word price:   $Call for Rent\n",
      "Multi word price:   $Call for Rent\n",
      "Multi word price:   $Call for Rent\n",
      "Multi word price:   $Call for Rent\n",
      "Multi word price:   $Call for Rent\n",
      "Multi word price:   $Call for Rent\n",
      "Multi word price:   $1,505 – $1,745\n",
      "Multi word price:   $Call for Rent\n",
      "Multi word price:   $Call for Rent\n",
      "Multi word price:   $Call for Rent\n",
      "Multi word price:   $Call for Rent\n",
      "Multi word price:   $Call for Rent\n",
      "Multi word price:   $Call for Rent\n",
      "Multi word price:   $Call for Rent\n",
      "Multi word price:   $1,464 – $2,067\n",
      "Multi word price:   $1,549 – $2,055\n",
      "Multi word price:   $1,551 – $1,940\n",
      "Multi word price:    $1,889 – $2,569\n",
      "Multi word price:    $2,044 – $2,648\n",
      "Expected 3 words in this string:   1211 – 1221 sq ft\n",
      "\n",
      "Multi word price:    $1,947 – $2,550\n",
      "Expected 3 words in this string:   1159 – 1169 sq ft\n",
      "\n",
      "Multi word price:    $1,975 – $2,533\n",
      "Multi word price:    $2,277 – $3,082\n",
      "Multi word price:    $2,939 – $3,810\n",
      "Multi word price:   $Call for Rent\n",
      "Multi word price:   $Call for Rent\n",
      "Multi word price:   $Call for Rent\n",
      "Multi word price:   $Call for Rent\n",
      "Multi word price:   $Call for Rent\n",
      "Multi word price:   $Call for Rent\n",
      "Multi word price:   $666 – $1,146\n",
      "Multi word price:   $666 – $1,146\n",
      "Multi word price:   $809 – $1,218\n",
      "Multi word price:   $809 – $1,218\n",
      "Multi word price:   $1,805 – $2,565\n",
      "Multi word price:   $1,765 – $2,715\n",
      "Multi word price:   $1,760 – $2,675\n",
      "Multi word price:    $2,425 – $3,540\n",
      "Multi word price:    $2,875 – $4,705\n",
      "Multi word price:   $1,508 – $1,899\n",
      "Multi word price:   $1,597 – $2,283\n",
      "Multi word price:   $Call for Rent\n",
      "Multi word price:   $1,315 – $1,345\n",
      "Multi word price:   $1,355 – $1,425\n",
      "Multi word price:   $1,475 – $1,555\n",
      "No part of town for this address string:  261 Etiwan Pointe Dr, Mount Pleasant, SC 29464\n"
     ]
    }
   ],
   "source": [
    "SKIP = 'SKIP'\n",
    "\n",
    "# TODO: for prices with a range, if the range is within some dollar threshold, just return the average instead of skipping\n",
    "def clean_price(pr_str):\n",
    "    pr_arr = pr_str.split()\n",
    "    if len(pr_arr) > 1:\n",
    "        print(\"Multi word price: \", pr_str)\n",
    "        return SKIP\n",
    "    price = re.sub(r'\\$|,', '', pr_arr[0]).strip()\n",
    "    return price\n",
    "\n",
    "def get_first_word_as_number(string, expected_num_words):\n",
    "    arr = string.split()\n",
    "    if len(arr) != expected_num_words:\n",
    "        print(\"Expected \" + str(expected_num_words) + \" words in this string: \", string)\n",
    "        return SKIP\n",
    "    result = re.sub(r',', '', arr[0].strip())\n",
    "    return result\n",
    "\n",
    "\n",
    "def split_address_and_part_of_town(addr_str):\n",
    "    arr = addr_str.split('–')\n",
    "    if len(arr) == 1:\n",
    "        print(\"No part of town for this address string: \", addr_str)\n",
    "        return addr_str, ''\n",
    "    if len(arr) != 2:\n",
    "        print(\"Expected only one '–' in the address string: \", addr_str)\n",
    "    [addr, part_of_town] = map(lambda s: s.strip(), arr)\n",
    "    return addr, part_of_town\n",
    "\n",
    "\n",
    "new_lines = ['address;part_of_town;beds;baths;square_footage;rent\\n']\n",
    "cleaned_results_file = '/home/bryce/Projects/Data_Science/Apt_Prices/cleaned-results.csv'\n",
    "with open(cleaned_results_file, 'r') as f:\n",
    "    for line in f.readlines():\n",
    "        # Let's check if any single semicolons are in the file, so we can use just a single one as the delimiter\n",
    "\n",
    "        single_semicolons = re.findall(r'[^;];[^;]', line)\n",
    "        if single_semicolons:\n",
    "            print(\"Found a stand-alone semicolon in this line: \", line)\n",
    "        columns = line.split(';;')\n",
    "        addr, part_of_town = split_address_and_part_of_town(columns[0])\n",
    "        price = clean_price(columns[1])\n",
    "        beds = get_first_word_as_number(columns[2], expected_num_words=2)\n",
    "        baths = get_first_word_as_number(columns[3], expected_num_words=2)\n",
    "        sq_ft = get_first_word_as_number(columns[4], expected_num_words=3)\n",
    "        if SKIP in [price, beds, baths, sq_ft]:\n",
    "            continue\n",
    "        new_line = ';'.join([addr, part_of_town, beds, baths, sq_ft, price]) + '\\n'\n",
    "        new_lines.append(new_line)\n",
    "\n",
    "formatted_results_file = '/home/bryce/Projects/Data_Science/Apt_Prices/formatted-results.csv'\n",
    "with open(formatted_results_file, 'w') as outfile:\n",
    "    outfile.writelines(new_lines)\n"
   ]
  },
  {
   "cell_type": "markdown",
   "metadata": {},
   "source": [
    "Let's actually change this code to make it a pandas dataframe. That seems easier to manipulate data with."
   ]
  },
  {
   "cell_type": "code",
   "execution_count": 2,
   "metadata": {},
   "outputs": [
    {
     "name": "stdout",
     "output_type": "stream",
     "text": [
      "Index(['address', 'part_of_town', 'beds', 'baths', 'square_footage', 'rent'], dtype='object')\n",
      "1879\n",
      "(1879,)\n",
      "int64\n"
     ]
    }
   ],
   "source": [
    "formatted_results_file = '/home/bryce/Projects/Data_Science/Apt_Prices/formatted-results.csv'\n",
    "\n",
    "\n",
    "dataset = pd.read_csv(formatted_results_file, delimiter=';')\n",
    "\n",
    "print(dataset.columns)\n",
    "\n",
    "addresses = dataset['address'].tolist()\n",
    "print(len(addresses))\n",
    "zips = [s.split()[-1] for s in addresses]\n",
    "\n",
    "unique_zips = tuple(set(zips))\n",
    "dataset['zips'] = zips\n",
    "\n",
    "zip_df = pd.DataFrame(unique_zips, columns=['Zips'])\n",
    "label_encoder = LabelEncoder()\n",
    "zip_df['Zip_Cats'] = label_encoder.fit_transform(zip_df['Zips'])\n",
    "\n",
    "# 'data' will be what we call the dataset as a numpy array\n",
    "data = dataset.to_records()\n",
    "print(data.shape)\n",
    "print(data['rent'].dtype)"
   ]
  },
  {
   "cell_type": "code",
   "execution_count": 8,
   "metadata": {},
   "outputs": [
    {
     "data": {
      "text/plain": [
       "[('29403', 537),\n",
       " ('29414', 321),\n",
       " ('29407', 270),\n",
       " ('29492', 227),\n",
       " ('29406', 145),\n",
       " ('29412', 118),\n",
       " ('29464', 63),\n",
       " ('29455', 58),\n",
       " ('29405', 49),\n",
       " ('29418', 37),\n",
       " ('29410', 30),\n",
       " ('29401', 20),\n",
       " ('29466', 3),\n",
       " ('29420', 1)]"
      ]
     },
     "execution_count": 8,
     "metadata": {},
     "output_type": "execute_result"
    }
   ],
   "source": [
    "addr = data['address'][1]\n",
    "get_zip = lambda s : s.split()[-1]\n",
    "\n",
    "\n",
    "addr_list = list(data['address'])\n",
    "zips = map(get_zip, addr_list)\n",
    "\n",
    "zip_count = defaultdict(int)\n",
    "for z in zips:\n",
    "    zip_count[z] += 1\n",
    "\n",
    "sorted(zip_count.items(), key=lambda i : -i[1])"
   ]
  },
  {
   "cell_type": "markdown",
   "metadata": {},
   "source": [
    "To start, we're going to do linear regression using just square footage, beds, and baths.\n",
    "\n",
    "The below code shows the R^2 with these three features is 0.25. This isn't great. Let's see if we can increase it with more variables!\n",
    "\n",
    "Later we'll add more variables to see how that improves accuracy."
   ]
  },
  {
   "cell_type": "code",
   "execution_count": 72,
   "metadata": {},
   "outputs": [
    {
     "name": "stdout",
     "output_type": "stream",
     "text": [
      "0.2939317419945209\n"
     ]
    }
   ],
   "source": [
    "# Once we make all our data numerical, we can just read the file in as X, instead of having to have column names\n",
    "\n",
    "m = data.shape[0]\n",
    "X = np.transpose(np.array((data['beds'], data['baths'], data['square_footage'] / 1000.)))\n",
    "# bed_bath_ratio = X[:, 0] / X[: , 1]\n",
    "# bed_bath_ratio = bed_bath_ratio.reshape(m, 1)\n",
    "# print(\"Min beds before: \", np.min(X[:, 0]))\n",
    "beds_without_studios = np.copy(X[:, 0])\n",
    "beds_without_studios[beds_without_studios == 0] = 1\n",
    "# print(\"Min beds after: \", np.min(X[:, 0]))\n",
    "\n",
    "\n",
    "# sqft_per_bed = (X[:,2] / beds_without_studios).reshape(m, 1)\n",
    "# X = np.append(X, bed_bath_ratio, axis = 1)\n",
    "# X = np.append(X, sqft_per_bed, axis = 1)\n",
    "\n",
    "y = data['rent'].astype('float64')\n",
    "\n",
    "scaler = StandardScaler().fit(X)\n",
    "rescaledX = scaler.transform(X)\n",
    "\n",
    "reg = LinearRegression().fit(rescaledX, y)\n",
    "print(reg.score(rescaledX, y))"
   ]
  },
  {
   "cell_type": "markdown",
   "metadata": {},
   "source": [
    "Let's add variables one at a time. First, we'll add dummy variables for zip codes."
   ]
  },
  {
   "cell_type": "code",
   "execution_count": 55,
   "metadata": {},
   "outputs": [
    {
     "name": "stdout",
     "output_type": "stream",
     "text": [
      "(1879, 9)\n",
      "[0. 0. 0. 0. 0. 0. 0. 1. 0.]\n",
      "0.5947082267026051\n"
     ]
    }
   ],
   "source": [
    "encoder = OneHotEncoder(handle_unknown=\"ignore\", sparse_output = False, min_frequency=50)\n",
    "Dummy_Zips = encoder.fit_transform(data['zips'].reshape(m, 1))\n",
    "print(Dummy_Zips.shape)\n",
    "print(Dummy_Zips[0, :])\n",
    "\n",
    "X_new = np.append(rescaledX, Dummy_Zips, axis = 1)\n",
    "reg = LinearRegression().fit(X_new, y)\n",
    "print(reg.score(X_new, y))\n"
   ]
  },
  {
   "cell_type": "markdown",
   "metadata": {},
   "source": [
    "Cool! With zip codes as dummy variables, the R^2 goes up to 0.59! Next we can add a variable for listings with 3 or more apartments in the same address. This will capture the difference between single houses and duplexes, and (usually fancier) larger apartment complexes"
   ]
  },
  {
   "cell_type": "code",
   "execution_count": 69,
   "metadata": {},
   "outputs": [
    {
     "name": "stdout",
     "output_type": "stream",
     "text": [
      "[294  42  40  34  33  31  31  26  26  26  26  25  25  25  24  24  23  23\n",
      "  23  21  21  21  20  20  20  20  20  20  20  19  19  19  19  18  18  17\n",
      "  17  17  16  16  16  16  15  14  14  14  13  13  13  13  12  11  11  11\n",
      "  10  10  10  10  10  10  10  10  10   9   9   9   9   8   8   8   7   7\n",
      "   6   6   6   5   4   4   4   4   4   3   3   3   3   3   3   3   2   2\n",
      "   2   2   2   2   2   2   2   1   1   1   1   1   1   1   1   1   1   1\n",
      "   1   1   1   1   1   1   1   1   1   1   1   1   1   1   1   1   1   1\n",
      "   1   1   1   1   1   1   1   1   1   1   1   1   1   1   1   1   1   1\n",
      "   1   1   1   1   1   1   1   1   1   1   1   1   1   1   1   1   1   1\n",
      "   1   1   1   1   1   1   1   1   1   1   1   1   1   1   1   1   1   1\n",
      "   1   1   1   1   1   1   1   1   1   1   1   1   1   1   1   1   1   1\n",
      "   1   1   1   1   1   1   1   1   1   1   1   1   1   1   1   1   1   1\n",
      "   1   1   1   1   1   1   1   1   1   1   1   1   1   1   1   1   1   1\n",
      "   1   1   1   1   1   1   1   1   1   1   1   1   1   1   1   1   1   1\n",
      "   1   1   1   1   1   1   1   1   1   1   1   1   1   1   1   1   1   1\n",
      "   1   1   1   1   1   1   1   1   1   1   1   1   1   1   1   1   1   1\n",
      "   1   1   1   1   1   1   1   1   1   1   1   1   1   1   1   1   1   1\n",
      "   1   1   1   1   1   1   1   1   1   1   1   1   1   1   1   1   1   1\n",
      "   1   1   1   1   1   1   1   1   1   1   1   1   1   1   1   1   1   1\n",
      "   1   1   1]\n"
     ]
    },
    {
     "ename": "ValueError",
     "evalue": "all the input arrays must have same number of dimensions, but the array at index 0 has 2 dimension(s) and the array at index 1 has 1 dimension(s)",
     "output_type": "error",
     "traceback": [
      "\u001b[0;31m---------------------------------------------------------------------------\u001b[0m",
      "\u001b[0;31mValueError\u001b[0m                                Traceback (most recent call last)",
      "Cell \u001b[0;32mIn[69], line 12\u001b[0m\n\u001b[1;32m      8\u001b[0m more_than_two \u001b[38;5;241m=\u001b[39m count_per_unit\u001b[38;5;241m.\u001b[39mmap(\u001b[38;5;28;01mlambda\u001b[39;00m c : \u001b[38;5;28mint\u001b[39m(c \u001b[38;5;241m>\u001b[39m \u001b[38;5;241m2\u001b[39m))\u001b[38;5;241m.\u001b[39mto_numpy()\u001b[38;5;241m.\u001b[39mreshape(m, \u001b[38;5;241m1\u001b[39m)\n\u001b[1;32m      9\u001b[0m more_than_ten \u001b[38;5;241m=\u001b[39m count_per_unit\u001b[38;5;241m.\u001b[39mmap(\u001b[38;5;28;01mlambda\u001b[39;00m c : \u001b[38;5;28mint\u001b[39m(c \u001b[38;5;241m>\u001b[39m \u001b[38;5;241m10\u001b[39m))\u001b[38;5;241m.\u001b[39mto_numpy()\u001b[38;5;241m.\u001b[39mreshape(m, \u001b[38;5;241m1\u001b[39m)\n\u001b[0;32m---> 12\u001b[0m X \u001b[38;5;241m=\u001b[39m \u001b[43mnp\u001b[49m\u001b[38;5;241;43m.\u001b[39;49m\u001b[43mappend\u001b[49m\u001b[43m(\u001b[49m\u001b[43mX\u001b[49m\u001b[43m,\u001b[49m\u001b[43m \u001b[49m\u001b[43mcount_per_unit\u001b[49m\u001b[43m,\u001b[49m\u001b[43m \u001b[49m\u001b[43maxis\u001b[49m\u001b[43m \u001b[49m\u001b[38;5;241;43m=\u001b[39;49m\u001b[43m \u001b[49m\u001b[38;5;241;43m1\u001b[39;49m\u001b[43m)\u001b[49m\n\u001b[1;32m     13\u001b[0m scaler \u001b[38;5;241m=\u001b[39m StandardScaler()\u001b[38;5;241m.\u001b[39mfit(X)\n\u001b[1;32m     14\u001b[0m rescaledX \u001b[38;5;241m=\u001b[39m scaler\u001b[38;5;241m.\u001b[39mtransform(X)\n",
      "File \u001b[0;32m<__array_function__ internals>:200\u001b[0m, in \u001b[0;36mappend\u001b[0;34m(*args, **kwargs)\u001b[0m\n",
      "File \u001b[0;32m~/.local/lib/python3.8/site-packages/numpy/lib/function_base.py:5499\u001b[0m, in \u001b[0;36mappend\u001b[0;34m(arr, values, axis)\u001b[0m\n\u001b[1;32m   5497\u001b[0m     values \u001b[39m=\u001b[39m ravel(values)\n\u001b[1;32m   5498\u001b[0m     axis \u001b[39m=\u001b[39m arr\u001b[39m.\u001b[39mndim\u001b[39m-\u001b[39m\u001b[39m1\u001b[39m\n\u001b[0;32m-> 5499\u001b[0m \u001b[39mreturn\u001b[39;00m concatenate((arr, values), axis\u001b[39m=\u001b[39;49maxis)\n",
      "File \u001b[0;32m<__array_function__ internals>:200\u001b[0m, in \u001b[0;36mconcatenate\u001b[0;34m(*args, **kwargs)\u001b[0m\n",
      "\u001b[0;31mValueError\u001b[0m: all the input arrays must have same number of dimensions, but the array at index 0 has 2 dimension(s) and the array at index 1 has 1 dimension(s)"
     ]
    }
   ],
   "source": [
    "address_count = dataset['address'].value_counts()\n",
    "print(address_count.values)\n",
    "\n",
    "count_per_unit = dataset['address'].map(lambda a : address_count[a])\n",
    "count_per_unit_np = count_per_unit.to_numpy().reshape(m, 1)\n",
    "really_high_indices = count_per_unit > 43\n",
    "\n",
    "more_than_two = count_per_unit.map(lambda c : int(c > 2)).to_numpy().reshape(m, 1)\n",
    "more_than_ten = count_per_unit.map(lambda c : int(c > 10)).to_numpy().reshape(m, 1)\n",
    "\n",
    "\n",
    "X = np.append(X, count_per_unit, axis = 1)\n",
    "scaler = StandardScaler().fit(X)\n",
    "rescaledX = scaler.transform(X)\n",
    "\n",
    "X = np.append(rescaledX, Dummy_Zips, axis = 1)\n",
    "\n",
    "cost_in_thousands = y / 1000.\n",
    "\n",
    "reg = LinearRegression().fit(X , cost_in_thousands)\n",
    "print(reg.score(X , cost_in_thousands))\n",
    "print(reg.coef_)\n",
    "\n"
   ]
  },
  {
   "cell_type": "markdown",
   "metadata": {},
   "source": [
    "Damn, those are some crazy high coefficients. Let's use the same variables but with L2 regularization.\n",
    "\n",
    "That's cool, with regularization the coefficients go way down, but the R^2 stays about the same."
   ]
  },
  {
   "cell_type": "code",
   "execution_count": 76,
   "metadata": {},
   "outputs": [
    {
     "name": "stdout",
     "output_type": "stream",
     "text": [
      "[ 1.    1.    0.78  0.    0.    0.    0.    0.    0.    0.    1.    0.\n",
      " 16.  ]\n",
      "(1585, 13)\n",
      "0.5816264235664939\n",
      "[-0.22473432  0.29433694  1.5191954   0.56297038 -0.46320126 -0.08182816\n",
      "  0.11268605 -0.25742259 -0.03191911  0.05620479  0.17562026 -0.07311034\n",
      " -0.00249948]\n"
     ]
    }
   ],
   "source": [
    "X1 = np.append(X, Dummy_Zips, axis = 1)\n",
    "X2 = np.append(X1, count_per_unit_np, axis = 1)\n",
    "\n",
    "# what if we got rid of the Morison drive apts with a zillion units\n",
    "X3 = X2[really_high_indices == False, :]\n",
    "print(X3[0, :])\n",
    "print(X3.shape)\n",
    "\n",
    "dropped_cost = cost_in_thousands[really_high_indices == False]\n",
    "reg = Ridge(alpha=1)\n",
    "reg.fit(X3 , dropped_cost)\n",
    "print(reg.score(X3 , dropped_cost))\n",
    "print(reg.coef_)\n"
   ]
  }
 ],
 "metadata": {
  "kernelspec": {
   "display_name": "Python 3.8.10 64-bit",
   "language": "python",
   "name": "python3"
  },
  "language_info": {
   "codemirror_mode": {
    "name": "ipython",
    "version": 3
   },
   "file_extension": ".py",
   "mimetype": "text/x-python",
   "name": "python",
   "nbconvert_exporter": "python",
   "pygments_lexer": "ipython3",
   "version": "3.8.10"
  },
  "orig_nbformat": 4,
  "vscode": {
   "interpreter": {
    "hash": "916dbcbb3f70747c44a77c7bcd40155683ae19c65e1c03b4aa3499c5328201f1"
   }
  }
 },
 "nbformat": 4,
 "nbformat_minor": 2
}
