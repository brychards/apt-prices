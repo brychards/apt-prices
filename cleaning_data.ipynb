{
 "cells": [
  {
   "cell_type": "markdown",
   "metadata": {},
   "source": [
    "In this file, we clean up the data scraped from apartments.com.\n",
    "\n",
    "In the scraper, we didn't include a lot of data validation logic. Plyaing around with it, we see a few issues:\n",
    "\n",
    "- Some rows have more columns than others. This is from a bug that splits some prices that have commas in them.\n",
    "- Some rental prices are in a range, such as \"$1520 - $1600\"\n",
    "- Some studios are listed as \"0\" bedrooms, while others are listed as \"Studio\" bedrooms\n",
    "- Some rows are missing data\n",
    "\n",
    "Let's clean all this up, and extract some more useful features from the data."
   ]
  },
  {
   "cell_type": "code",
   "execution_count": 21,
   "metadata": {},
   "outputs": [],
   "source": [
    "import numpy as np\n",
    "import matplotlib.pyplot as plt\n",
    "import csv\n",
    "from functools import reduce\n",
    "import re \n",
    "from collections import defaultdict\n",
    "\n",
    "import math\n",
    "\n",
    "from sklearn.linear_model import LinearRegression\n",
    "from sklearn.linear_model import Ridge\n",
    "from sklearn.preprocessing import StandardScaler\n",
    "from sklearn.preprocessing import OneHotEncoder\n",
    "from sklearn.preprocessing import LabelEncoder\n",
    "\n",
    "import pandas as pd\n",
    "\n",
    "DIR = '/home/bryce/Projects/Data_Science/Apt_Prices/'"
   ]
  },
  {
   "cell_type": "code",
   "execution_count": 2,
   "metadata": {},
   "outputs": [],
   "source": [
    "results_file = '/home/bryce/Projects/Data_Science/Apt_Prices/all-results.csv'\n",
    "\n",
    "adjusted_lines = []\n",
    "\n",
    "with open(results_file, 'r') as f:\n",
    "    for line in f.readlines():\n",
    "        columns = line.split(';;')\n",
    "        if len(columns) > 5:\n",
    "            extra_cols = columns[4:]\n",
    "            new_col = reduce(lambda s1, s2: s1.strip() + s2.strip(), extra_cols)\n",
    "            new_cols = columns[:4] + [new_col]\n",
    "            new_line = ';; '.join(new_cols)\n",
    "            adjusted_lines.append(new_line + '\\n')\n",
    "            continue\n",
    "        elif len(columns) <= 2:\n",
    "            # these are either blank lines or the couple lines where an address wasn't found\n",
    "            continue\n",
    "        adjusted_lines.append(line)\n",
    "\n",
    "adjusted_results_file = '/home/bryce/Projects/Data_Science/Apt_Prices/cleaned-results.csv'\n",
    "with open(adjusted_results_file, 'w') as outfile:\n",
    "    outfile.writelines(adjusted_lines)"
   ]
  },
  {
   "cell_type": "markdown",
   "metadata": {},
   "source": [
    "OK, so the number of rows is consistent!\n",
    "\n",
    "But we can't do regression can't on '$2345' and '2 bds' and whatnot.\n",
    "\n",
    "So let's clean up the file further.\n",
    "\n",
    "old file columns:\n",
    "\n",
    "123 Main St, Charleston, SC, 20401 - Downtown;; $2131;; 2 bd;; 1 ba;; 1,200 sq ft\n",
    "\n",
    "the new file columns:\n",
    "\n",
    "123 Main St, Charleston, SC 29401; Downtown; 2; 1; 1200; 2131"
   ]
  },
  {
   "cell_type": "code",
   "execution_count": 3,
   "metadata": {},
   "outputs": [
    {
     "name": "stdout",
     "output_type": "stream",
     "text": [
      "Index(['address', 'price', 'beds', 'baths', 'sq_ft'], dtype='object')\n",
      "Unexpected price string:   $Call for Rent\n",
      "Unexpected price string:   $Call for Rent\n",
      "Unexpected price string:   $Call for Rent\n",
      "Unexpected price string:   $Call for Rent\n",
      "Unexpected price string:   $Call for Rent\n",
      "Unexpected price string:   $Call for Rent\n",
      "Unexpected price string:   $Call for Rent\n",
      "Unexpected price string:   $Call for Rent\n",
      "Unexpected price string:   $Call for Rent\n",
      "Unexpected price string:   $Call for Rent\n",
      "Unexpected price string:   $Call for Rent\n",
      "Unexpected price string:   $Call for Rent\n",
      "Unexpected price string:   $Call for Rent\n",
      "Unexpected price string:   $Call for Rent\n",
      "Unexpected price string:   $Call for Rent\n",
      "Unexpected price string:   $Call for Rent\n",
      "Unexpected price string:   $Call for Rent\n",
      "Unexpected price string:   $Call for Rent\n",
      "Unexpected price string:   $Call for Rent\n",
      "Unexpected price string:   $Call for Rent\n",
      "Unexpected price string:   $Call for Rent\n",
      "Unexpected price string:   $Call for Rent\n",
      "Unexpected price string:   $Call for Rent\n",
      "Unexpected price string:   $Call for Rent\n",
      "Unexpected price string:   $Call for Rent\n",
      "Unexpected price string:   $Call for Rent\n",
      "Unexpected price string:   $Call for Rent\n",
      "Unexpected price string:   $Call for Rent\n",
      "Unexpected price string:   $Call for Rent\n",
      "Unexpected price string:   $Call for Rent\n",
      "Unexpected price string:   $Call for Rent\n",
      "Unexpected price string:   $Call for Rent\n",
      "Unexpected price string:   $Call for Rent\n",
      "Unexpected price string:   $Call for Rent\n",
      "Unexpected price string:   $Call for Rent\n",
      "Unexpected price string:   $Call for Rent\n",
      "Unexpected price string:   $Call for Rent\n",
      "Unexpected price string:   $Call for Rent\n",
      "Unexpected price string:   $Call for Rent\n",
      "Expected 2 words in this string:   Studio\n",
      "Expected 2 words in this string:   3bd\n",
      "Expected 3 words in this string:   1211 – 1221 sq ft\n",
      "Expected 3 words in this string:   1159 – 1169 sq ft\n",
      "Expected 3 words in this string:   650 – 700 sq ft\n",
      "Expected 3 words in this string:   650 – 700 sq ft\n",
      "We are dropping 70 out of 1947 records.\n"
     ]
    },
    {
     "name": "stderr",
     "output_type": "stream",
     "text": [
      "/tmp/ipykernel_3569/506437733.py:50: FutureWarning: In a future version of pandas all arguments of StringMethods.split except for the argument 'pat' will be keyword-only.\n",
      "  addr_and_part_of_town = df['address'].str.split('–', 1, expand=True)\n"
     ]
    }
   ],
   "source": [
    "adjusted_results_file = '/home/bryce/Projects/Data_Science/Apt_Prices/cleaned-results.csv'\n",
    "df = pd.read_csv(adjusted_results_file, delimiter=';;', names = ['address', 'price', 'beds', 'baths', 'sq_ft'], engine='python')\n",
    "print(df.columns)\n",
    "\n",
    "SKIP = -1\n",
    "\n",
    "# Some apartment's prices on apartments.com are of the form \"$1400 – $1520\"\n",
    "# This function will return the average of the two prices, if the difference\n",
    "# in price is <= max_range. Otherwise, it returns SKIP\n",
    "def replace_price_range_with_average(pr_str, max_range):\n",
    "    # eliminate spaces and commas\n",
    "    pr_s = pr_str.replace(' ', '').replace(',', '')\n",
    "    # replace multiple dollar signs with one\n",
    "    pr_s = re.sub(r'\\$+', '$', pr_s)\n",
    "    # get the two prices\n",
    "    m = re.match(r'.*\\$([0-9]+)–\\$([0-9]+)', pr_s)\n",
    "    if m is None:\n",
    "        print(\"Unexpected price string: \", pr_str)\n",
    "        return SKIP\n",
    "    (p1, p2) = m.groups(0)\n",
    "    pr1 = int(p1)\n",
    "    pr2 = int(p2)\n",
    "    diff = pr2 - pr1\n",
    "    assert diff >= 0, \"Negative price range\"\n",
    "    if diff <= max_range:\n",
    "        return pr1 + math.floor(diff / 2)\n",
    "    else:\n",
    "        return SKIP\n",
    "    \n",
    "def clean_price(pr_str):\n",
    "    pr_arr = pr_str.split()\n",
    "    if len(pr_arr) > 1:\n",
    "        return replace_price_range_with_average(pr_str, 80)\n",
    "    price = re.sub(r'\\$|,', '', pr_arr[0]).strip()\n",
    "    return price\n",
    "\n",
    "\n",
    "def get_first_word_as_number(string, expected_num_words):\n",
    "    arr = string.split()\n",
    "    if len(arr) != expected_num_words:\n",
    "        print(\"Expected \" + str(expected_num_words) + \" words in this string: \", string)\n",
    "        return SKIP\n",
    "    result = re.sub(r',', '', arr[0].strip())\n",
    "    return result\n",
    "\n",
    "\n",
    "\n",
    "\n",
    "\n",
    "addr_and_part_of_town = df['address'].str.split('–', 1, expand=True)\n",
    "df['address'] = addr_and_part_of_town[0].map(lambda s : s.strip())\n",
    "df['location'] = addr_and_part_of_town[1].map(lambda s : s.strip() if s else s)  # the if statement handles records with no part of town\n",
    "\n",
    "df['price'] = df['price'].map(clean_price)\n",
    "df['beds'] = df['beds'].map(lambda s : get_first_word_as_number(s, 2))\n",
    "df['baths'] = df['baths'].map(lambda s: get_first_word_as_number(s, 2))\n",
    "df['sq_ft'] = df['sq_ft'].map(lambda s : get_first_word_as_number(s, 3))\n",
    "\n",
    "drop_row = (df['price'] == SKIP) | (df['beds'] == SKIP) | (df['baths'] == SKIP) | (df['sq_ft'] == SKIP)\n",
    "print(\"We are dropping \" + str(drop_row.sum()) + \" out of \" + str(drop_row.size) + \" records.\")\n",
    "df = df[~drop_row]\n",
    "\n"
   ]
  },
  {
   "cell_type": "markdown",
   "metadata": {},
   "source": [
    "Now we're going to extract a couple more features.\n",
    "\n",
    "We'll save the zip codes and how many units the building has (i.e., how many rows have the same address as the current row)"
   ]
  },
  {
   "cell_type": "code",
   "execution_count": 4,
   "metadata": {},
   "outputs": [
    {
     "name": "stdout",
     "output_type": "stream",
     "text": [
      "<class 'pandas.core.frame.DataFrame'>\n",
      "Int64Index: 1877 entries, 0 to 1945\n",
      "Data columns (total 8 columns):\n",
      " #   Column             Non-Null Count  Dtype \n",
      "---  ------             --------------  ----- \n",
      " 0   address            1877 non-null   object\n",
      " 1   price              1877 non-null   object\n",
      " 2   beds               1877 non-null   object\n",
      " 3   baths              1877 non-null   object\n",
      " 4   sq_ft              1877 non-null   object\n",
      " 5   location           1877 non-null   object\n",
      " 6   zip                1877 non-null   object\n",
      " 7   units_in_building  1877 non-null   int64 \n",
      "dtypes: int64(1), object(7)\n",
      "memory usage: 132.0+ KB\n"
     ]
    }
   ],
   "source": [
    "\n",
    "# First, we'll add zip code as a new column\n",
    "zips = df['address'].map(lambda s : s.split()[-1])\n",
    "df['zip'] = zips\n",
    "\n",
    "\n",
    "# Next, we'll add the number of units per building as a new column\n",
    "address_count = df['address'].value_counts()\n",
    "units_in_building = df['address'].map(lambda a : address_count[a])\n",
    "df['units_in_building'] = units_in_building\n",
    "\n",
    "\n",
    "# Finally, some studios list their bedroom count as 0, while others say 'Studio'. Let's make this consistent\n",
    "def handle_studios(s):\n",
    "    if s.strip().lower() == 'studio':\n",
    "        return 0\n",
    "    else:\n",
    "        return s\n",
    "    \n",
    "\n",
    "beds_cleaned = df['beds'].map(handle_studios)\n",
    "df['beds'] = beds_cleaned\n",
    "\n",
    "df.info()\n"
   ]
  },
  {
   "cell_type": "markdown",
   "metadata": {},
   "source": [
    "OK, so we've cleaned the data and added a couple features. Let's change the datatypes from objects to ints and floats"
   ]
  },
  {
   "cell_type": "code",
   "execution_count": 5,
   "metadata": {},
   "outputs": [],
   "source": [
    "df['price'] = pd.to_numeric(df['price'])\n",
    "df['beds'] = pd.to_numeric(df['beds'])\n",
    "df['baths'] = pd.to_numeric(df['baths'])\n",
    "df['sq_ft'] = pd.to_numeric(df['sq_ft'])\n"
   ]
  },
  {
   "cell_type": "markdown",
   "metadata": {},
   "source": [
    "Let's look up some functions for providing summary statistics, bins, range, etc. for each category"
   ]
  },
  {
   "cell_type": "code",
   "execution_count": 6,
   "metadata": {},
   "outputs": [
    {
     "name": "stdout",
     "output_type": "stream",
     "text": [
      "                            mean             count      \n",
      "                           price       sq_ft price sq_ft\n",
      "loc                                                     \n",
      "Daniel Island        1916.026316  806.697368    76    76\n",
      "Downtown             2848.557312  776.031621   253   253\n",
      "West Ashley - inner  1636.729167  693.593750    96    96\n",
      "West Ashley - outer  1627.327586  796.008621   116   116\n"
     ]
    },
    {
     "name": "stderr",
     "output_type": "stream",
     "text": [
      "/tmp/ipykernel_3569/3932437879.py:24: SettingWithCopyWarning: \n",
      "A value is trying to be set on a copy of a slice from a DataFrame.\n",
      "Try using .loc[row_indexer,col_indexer] = value instead\n",
      "\n",
      "See the caveats in the documentation: https://pandas.pydata.org/pandas-docs/stable/user_guide/indexing.html#returning-a-view-versus-a-copy\n",
      "  obs['loc'] = obs.apply(map_zips, axis=1)\n"
     ]
    }
   ],
   "source": [
    "df.describe()\n",
    "one_beds = df.loc[(df.beds == 1)]\n",
    "#print(one_beds.describe())\n",
    "\n",
    "\n",
    "# How many one beds are available in each zip code?\n",
    "piv = one_beds.pivot_table('price', index='zip', aggfunc='count')\n",
    "piv = piv.rename(columns={'price': 'count'}).sort_values(by='count', ascending=False)\n",
    "#print(piv)\n",
    "\n",
    "\n",
    "# There are the most apartments in 29403 (upper peninsula), 29414 (outer west ashley), 29407 (inner west ashley), and 29492 (daniel island)\n",
    "# Let's just compare one bedrooms across these zip codes\n",
    "\n",
    "# What is the average square footage and price per apartment in each of those zip code?\n",
    "zips_map = {'29403': 'Downtown',\n",
    "               '29407': 'West Ashley - inner',\n",
    "               '29414': 'West Ashley - outer',\n",
    "               '29492': 'Daniel Island'}\n",
    "obs = one_beds[one_beds['zip'].isin(zips_map.keys())]\n",
    "def map_zips(row):\n",
    "    return zips_map[row['zip']]\n",
    "\n",
    "obs['loc'] = obs.apply(map_zips, axis=1)\n",
    "obs.drop(columns=['location'])\n",
    "\n",
    "pr_piv = obs.pivot_table(values=['price', 'sq_ft'], index='loc', aggfunc=['mean', 'count'])\n",
    "\n",
    "print(pr_piv)\n"
   ]
  },
  {
   "cell_type": "markdown",
   "metadata": {},
   "source": [
    "Let's plot the square price against square footage for these one bedroom apartments, to see the relationship and the differences across these four parts of town"
   ]
  },
  {
   "cell_type": "code",
   "execution_count": 7,
   "metadata": {},
   "outputs": [
    {
     "data": {
      "image/png": "[encoded data removed]",
      "text/plain": [
       "<Figure size 640x480 with 1 Axes>"
      ]
     },
     "metadata": {},
     "output_type": "display_data"
    }
   ],
   "source": [
    "fig, ax = plt.subplots()\n",
    "groups = obs.groupby('loc')\n",
    "for loc, group in groups:\n",
    "    ax.plot(group.sq_ft, group.price, marker='o', linestyle='', label=loc)\n",
    "ax.legend()\n",
    "ax.set_xlabel('Square Footage')\n",
    "ax.set_ylabel('Price')\n",
    "ax.set_ylim([0,5000])\n",
    "plt.show()"
   ]
  },
  {
   "cell_type": "markdown",
   "metadata": {},
   "source": [
    "The above plot seems to show that price per square footage differs in different parts of town. So the zip code categorical variable x square footage would make a good features.\n",
    "\n",
    "Here's some future data analysis I'd like to do:\n",
    "\n",
    "- Visualize the prices on a map\n",
    "- Visualize the square footages on a map\n",
    "\n",
    "Downtown is interesting, because it is a mixture of old houses and new apartment buildings. Understand the difference in availability between these two types:\n",
    "\n",
    "- How many 1 bed, 2 bed, 3 bed etc apartments are available for each category\n",
    "- What square footage range is available in single buildings vs complexes, broken down by number of bedrooms\n",
    "- Where are apartments of each category located?"
   ]
  },
  {
   "cell_type": "markdown",
   "metadata": {},
   "source": [
    "In order to map the data, we need each apartment's lat/lng. But we've done some data exploration that shows that a lot of the addresses are \"messed up\" in some way. Here are the main three ways:\n",
    "\n",
    "- Duplication: \"123 Main Street, 123 Main St, Charleston, SC 29404\"\n",
    "- \"Unit\"s: \"123 Main Street Unit B, Charleston, SC 29404\"\n",
    "- whitespace \"             123 Main St, Charleston, SC 29404       \"\n",
    "\n",
    "Let's fix these issues before we try to extract the lat/lngs."
   ]
  },
  {
   "cell_type": "code",
   "execution_count": 9,
   "metadata": {},
   "outputs": [],
   "source": [
    "# Here are some functions we use to clean up the addresses.\n",
    "\n",
    "# This splits the address into three groups. We'll just cut out the 2nd group.\n",
    "unit_re = r'(.*?)( unit [0-9a-z\\.\\-\\s]+)(,.*)'\n",
    "unit_comp = re.compile(unit_re)\n",
    "\n",
    "def remove_unit(addr):\n",
    "    addr = addr.strip().lower()\n",
    "    # include groups 1 and 3, but not 2\n",
    "    cut_addr = unit_comp.sub(r'\\1\\3', addr)\n",
    "    cut_addr = cut_addr.title()\n",
    "    return cut_addr.replace('Sc', 'SC')\n",
    "\n",
    "\n",
    "name_re = r'[a-z\\']+'\n",
    "word_re = '[a-z]+'\n",
    "city_re = r'(?:{word} ){{0,2}}{word}'.format(word=word_re)\n",
    "street_re = '(?:{name} )*{word}'.format(name=name_re, word=word_re)\n",
    "number_re = '[0-9]+'\n",
    "spaces_re = r'\\s+'\n",
    "zip_re = '2[0-9]{4}'\n",
    "address_re = r'{number_re} {street_re}, {city_re}, sc {zip_re}'.format(\n",
    "    number_re=number_re, street_re=street_re, city_re=city_re, zip_re=zip_re)\n",
    "search_re = r'.*?({address_re}).*'.format(address_re=address_re)\n",
    "search_comp = re.compile(search_re)\n",
    "\n",
    "# Handles the duplication issue.\n",
    "def extract_address(addr):\n",
    "    addr = addr.strip().lower()\n",
    "    m = search_comp.match(addr)\n",
    "    if m:\n",
    "        cut_addr = m.groups()[0]\n",
    "        cut_addr = cut_addr.title()\n",
    "        return cut_addr.replace('Sc', 'SC')\n",
    "    else:\n",
    "        return None\n",
    "\n",
    "# We do this because technically Daniel Island and Johns Island are in the city of Charleston. The\n",
    "# lat/lng lookups don't seem to work with these technically inaccurate city names.\n",
    "def sub_city_names(address):\n",
    "    if address is None:\n",
    "        return address\n",
    "        \n",
    "    cities_to_sub = {'Daniel Island' : 'Charleston', 'Johns Island' : 'Charleston'}\n",
    "    for city, sub_city in cities_to_sub.items():\n",
    "        if city in address:\n",
    "            return re.sub(city, sub_city, address)\n",
    "    return address\n",
    "\n",
    "\n",
    "def clean_address(address):\n",
    "    addr_without_unit = remove_unit(address)\n",
    "    extracted_addr = extract_address(addr_without_unit)\n",
    "    addr_city_subbed = sub_city_names(extracted_addr)\n",
    "    return addr_city_subbed"
   ]
  },
  {
   "cell_type": "markdown",
   "metadata": {},
   "source": [
    "So now we get those cleaned up addresses:"
   ]
  },
  {
   "cell_type": "code",
   "execution_count": 11,
   "metadata": {},
   "outputs": [],
   "source": [
    "df['mapped_address'] = df.address.map(clean_address)"
   ]
  },
  {
   "cell_type": "markdown",
   "metadata": {},
   "source": [
    "Now let's map these addresses to lat/lng:"
   ]
  },
  {
   "cell_type": "code",
   "execution_count": 12,
   "metadata": {},
   "outputs": [
    {
     "name": "stderr",
     "output_type": "stream",
     "text": [
      "/usr/lib/python3/dist-packages/requests/__init__.py:89: RequestsDependencyWarning: urllib3 (1.26.14) or chardet (3.0.4) doesn't match a supported version!\n",
      "  warnings.warn(\"urllib3 ({}) or chardet ({}) doesn't match a supported \"\n"
     ]
    }
   ],
   "source": [
    "\n",
    "import geopy\n",
    "from geopy.exc import GeocoderUnavailable\n",
    "from geopy.geocoders import Nominatim\n",
    "import time\n",
    "\n",
    "\n",
    "geolocator = Nominatim(user_agent=\"charleston_apt_prices\")\n",
    "def get_latlng(address):\n",
    "    try:\n",
    "        location = geolocator.geocode(address)\n",
    "        if location:\n",
    "            latlng = (location.latitude, location.longitude)\n",
    "            print(\"Address \" + address + \" mapped to: \", latlng)\n",
    "            return latlng\n",
    "        else:\n",
    "            print(\"Couldn't map address: \", address)\n",
    "            return None\n",
    "    except GeocoderUnavailable as e:\n",
    "        time.sleep(10)\n",
    "        return None\n"
   ]
  },
  {
   "cell_type": "code",
   "execution_count": null,
   "metadata": {},
   "outputs": [],
   "source": [
    "unique_addresses = df['mapped_address'].drop_duplicates()\n",
    "latlngs = unique_addresses.map(get_latlng)\n",
    "address_to_latlng = pd.Series(latlngs, index = unique_addresses).to_dict()\n",
    "df['latlng'] = df['mapped_address'].map(lambda addr: address_to_latlng[addr])\n",
    "\n",
    "\n",
    "# Let's drop the old 'address' column and just keep the new 'mapped_address'\n",
    "df['address'] = df['mapped_address']\n",
    "df.drop('mapped_address')\n",
    "\n",
    "# save these results to CSV:\n",
    "# dv.to_csv(...)"
   ]
  },
  {
   "cell_type": "markdown",
   "metadata": {},
   "source": [
    "After looking at the results, it seems that most of the addresses that weren't successfully mapped to a latlng are very small and/or new roads. \n",
    "\n",
    "We've gone through the CSV manually and replaced with addresses with nearby larger roads. So let's load the CSV and try to re-map any addresses that don't have a latlng.\n"
   ]
  },
  {
   "cell_type": "code",
   "execution_count": null,
   "metadata": {},
   "outputs": [],
   "source": [
    "loc_df = pd.read_csv(DIR + 'pandas_output_2-10.csv', sep=';')\n",
    "addr_to_latlng = pd.Series(loc_df.latlng.values, index=loc_df.address).to_dict()"
   ]
  },
  {
   "cell_type": "code",
   "execution_count": null,
   "metadata": {},
   "outputs": [],
   "source": [
    "geolocator = Nominatim(user_agent=\"charleston_apt_prices\")\n",
    "\n",
    "\n",
    "def get_existing_or_new_latlng(address):\n",
    "    if address in addr_to_latlng:\n",
    "        existing_latlng = addr_to_latlng[address]\n",
    "        return existing_latlng\n",
    "    else:\n",
    "        new_latlng = get_latlng(address)\n",
    "        # Update the map so that subsequent calls to this address won't have to use geolocator.\n",
    "        addr_to_latlng[address] = new_latlng\n",
    "        return new_latlng\n",
    "\n",
    "loc_df['updated_latlng'] = loc_df['address'].map(get_existing_or_new_latlng)\n"
   ]
  },
  {
   "cell_type": "code",
   "execution_count": 42,
   "metadata": {},
   "outputs": [
    {
     "name": "stdout",
     "output_type": "stream",
     "text": [
      "Number of missing latlngs before:  297\n",
      "Number of missing latlngs after updated addresses:  94\n",
      "Percentage of addresses with latlng now:  94.99200852424082\n"
     ]
    }
   ],
   "source": [
    "\n",
    "print(\"Number of missing latlngs before: \", loc_df.latlng.isna().sum())\n",
    "print(\"Number of missing latlngs after updated addresses: \", loc_df.updated_latlng.isna().sum())\n",
    "print(\"Percentage of addresses with latlng now: \", 100 * (~loc_df.updated_latlng.isna()).sum() / loc_df.shape[0])\n"
   ]
  },
  {
   "cell_type": "markdown",
   "metadata": {},
   "source": [
    "We now have the latlngs for about 95% of the listings. This is good enough for me! Let's save these results to a new CSV and we can use that for all subsequent data analysis."
   ]
  },
  {
   "cell_type": "code",
   "execution_count": 43,
   "metadata": {},
   "outputs": [],
   "source": [
    "loc_df['latlng'] = loc_df['updated_latlng']\n",
    "loc_df.drop(columns=['updated_latlng'])\n",
    "loc_df.to_csv(DIR + 'updated_latlngs.csv', sep=';')"
   ]
  }
 ],
 "metadata": {
  "kernelspec": {
   "display_name": "Python 3.8.10 64-bit",
   "language": "python",
   "name": "python3"
  },
  "language_info": {
   "codemirror_mode": {
    "name": "ipython",
    "version": 3
   },
   "file_extension": ".py",
   "mimetype": "text/x-python",
   "name": "python",
   "nbconvert_exporter": "python",
   "pygments_lexer": "ipython3",
   "version": "3.8.10"
  },
  "orig_nbformat": 4,
  "vscode": {
   "interpreter": {
    "hash": "916dbcbb3f70747c44a77c7bcd40155683ae19c65e1c03b4aa3499c5328201f1"
   }
  }
 },
 "nbformat": 4,
 "nbformat_minor": 2
}
